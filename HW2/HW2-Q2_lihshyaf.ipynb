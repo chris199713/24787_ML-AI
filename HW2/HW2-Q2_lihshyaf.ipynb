{
 "cells": [
  {
   "cell_type": "code",
   "execution_count": 1,
   "id": "73a55063",
   "metadata": {},
   "outputs": [],
   "source": [
    "import numpy as np\n",
    "import time\n",
    "start_time = time.time()"
   ]
  },
  {
   "cell_type": "code",
   "execution_count": 2,
   "id": "27f264e8",
   "metadata": {},
   "outputs": [],
   "source": [
    "np.random.seed(24787)\n",
    "a = np.random.randint(0, 8, size=(3,4,4))"
   ]
  },
  {
   "cell_type": "code",
   "execution_count": 3,
   "id": "d4cbe02d",
   "metadata": {},
   "outputs": [
    {
     "name": "stdout",
     "output_type": "stream",
     "text": [
      "[[[2 6 4 1]\n",
      "  [0 4 4 3]\n",
      "  [6 6 1 2]\n",
      "  [7 0 6 5]]\n",
      "\n",
      " [[1 3 3 7]\n",
      "  [4 7 2 5]\n",
      "  [0 4 6 7]\n",
      "  [5 5 7 1]]\n",
      "\n",
      " [[7 2 4 5]\n",
      "  [6 7 7 0]\n",
      "  [6 2 0 4]\n",
      "  [2 0 7 6]]]\n",
      "depth 1 row and column index of value 4: (0, 2)\n",
      "depth 1 row and column index of value 4: (1, 1)\n",
      "depth 1 row and column index of value 4: (1, 2)\n",
      "depth 2 row and column index of value 4: (1, 0)\n",
      "depth 2 row and column index of value 4: (2, 1)\n",
      "depth 3 row and column index of value 4: (0, 2)\n",
      "depth 3 row and column index of value 4: (2, 3)\n"
     ]
    }
   ],
   "source": [
    "print(a)\n",
    "result_depth1 = np.where(a[0] == 4)\n",
    "result_depth2 = np.where(a[1] == 4)\n",
    "result_depth3 = np.where(a[2] == 4)\n",
    "depth1 = list(zip(result_depth1[0], result_depth1[1]))\n",
    "depth2 = list(zip(result_depth2[0], result_depth2[1]))\n",
    "depth3 = list(zip(result_depth3[0], result_depth3[1]))\n",
    "for cord in depth1:\n",
    "    print(\"depth 1 row and column index of value 4:\",cord)\n",
    "for cord in depth2:\n",
    "    print(\"depth 2 row and column index of value 4:\",cord)\n",
    "for cord in depth3:\n",
    "    print(\"depth 3 row and column index of value 4:\",cord)"
   ]
  },
  {
   "cell_type": "code",
   "execution_count": 4,
   "id": "39a1d80d",
   "metadata": {},
   "outputs": [
    {
     "name": "stdout",
     "output_type": "stream",
     "text": [
      "(3, 8, 8)\n",
      "[[[2 6 4 1 2 6 4 1]\n",
      "  [0 4 4 3 0 4 4 3]\n",
      "  [6 6 1 2 6 6 1 2]\n",
      "  [7 0 6 5 7 0 6 5]\n",
      "  [2 6 4 1 2 6 4 1]\n",
      "  [0 4 4 3 0 4 4 3]\n",
      "  [6 6 1 2 6 6 1 2]\n",
      "  [7 0 6 5 7 0 6 5]]\n",
      "\n",
      " [[1 3 3 7 1 3 3 7]\n",
      "  [4 7 2 5 4 7 2 5]\n",
      "  [0 4 6 7 0 4 6 7]\n",
      "  [5 5 7 1 5 5 7 1]\n",
      "  [1 3 3 7 1 3 3 7]\n",
      "  [4 7 2 5 4 7 2 5]\n",
      "  [0 4 6 7 0 4 6 7]\n",
      "  [5 5 7 1 5 5 7 1]]\n",
      "\n",
      " [[7 2 4 5 7 2 4 5]\n",
      "  [6 7 7 0 6 7 7 0]\n",
      "  [6 2 0 4 6 2 0 4]\n",
      "  [2 0 7 6 2 0 7 6]\n",
      "  [7 2 4 5 7 2 4 5]\n",
      "  [6 7 7 0 6 7 7 0]\n",
      "  [6 2 0 4 6 2 0 4]\n",
      "  [2 0 7 6 2 0 7 6]]]\n"
     ]
    }
   ],
   "source": [
    "b = np.tile(a,(2,2))\n",
    "print(b.shape)\n",
    "print(b)"
   ]
  },
  {
   "cell_type": "code",
   "execution_count": 5,
   "id": "dac312cd",
   "metadata": {},
   "outputs": [],
   "source": [
    "c = np.sum(b, axis = 0)"
   ]
  },
  {
   "cell_type": "code",
   "execution_count": 6,
   "id": "c246e0c2",
   "metadata": {},
   "outputs": [
    {
     "name": "stdout",
     "output_type": "stream",
     "text": [
      "[[10 11 11 13 10 11 11 13]\n",
      " [10 18 13  8 10 18 13  8]\n",
      " [12 12  7 13 12 12  7 13]\n",
      " [14  5 20 12 14  5 20 12]\n",
      " [10 11 11 13 10 11 11 13]\n",
      " [10 18 13  8 10 18 13  8]\n",
      " [12 12  7 13 12 12  7 13]\n",
      " [14  5 20 12 14  5 20 12]]\n",
      "(8, 8)\n"
     ]
    }
   ],
   "source": [
    "print(c)\n",
    "print(c.shape)"
   ]
  },
  {
   "cell_type": "code",
   "execution_count": 7,
   "id": "6d155001",
   "metadata": {},
   "outputs": [],
   "source": [
    "np.random.seed(24787)\n",
    "a = np.random.randint(0, 10, size=(1000,1000))\n",
    "b = np.random.randint(0, 10, size=(1000,1000))"
   ]
  },
  {
   "cell_type": "code",
   "execution_count": 8,
   "id": "15d03e40",
   "metadata": {},
   "outputs": [],
   "source": [
    "def matmul(matrix1,matrix2):\n",
    "    lst = []\n",
    "    for row in range(a.shape[0]):\n",
    "        for col in range(b.shape[1]):\n",
    "            mat_mul = int(np.dot(a[row],b[:,[col]]))\n",
    "            lst.append(mat_mul)\n",
    "    matmul_array = np.asarray(lst)\n",
    "    result = matmul_array.reshape(a.shape[0],b.shape[1])\n",
    "    return result"
   ]
  },
  {
   "cell_type": "code",
   "execution_count": 9,
   "id": "93ac5100",
   "metadata": {},
   "outputs": [
    {
     "name": "stdout",
     "output_type": "stream",
     "text": [
      "[[20248 20350 19789 ... 19680 20445 20500]\n",
      " [20929 20833 20719 ... 20444 20891 21227]\n",
      " [21194 20950 20565 ... 20130 21208 21259]\n",
      " ...\n",
      " [20335 20646 20637 ... 20104 20646 20979]\n",
      " [19785 19973 19454 ... 19131 20007 19942]\n",
      " [20451 20402 20452 ... 19858 20117 20135]]\n",
      "My matmul function execution time: 6.3232762813568115\n",
      "\n",
      "\n",
      "[[20248 20350 19789 ... 19680 20445 20500]\n",
      " [20929 20833 20719 ... 20444 20891 21227]\n",
      " [21194 20950 20565 ... 20130 21208 21259]\n",
      " ...\n",
      " [20335 20646 20637 ... 20104 20646 20979]\n",
      " [19785 19973 19454 ... 19131 20007 19942]\n",
      " [20451 20402 20452 ... 19858 20117 20135]]\n",
      "Built in matmul function execution time: 1.5114598274230957\n"
     ]
    }
   ],
   "source": [
    "start_time = time.time()\n",
    "print(matmul(a,b))\n",
    "end_time = time.time()\n",
    "print(\"My matmul function execution time:\",end_time - start_time)\n",
    "print(\"\\n\")\n",
    "start_time = time.time()\n",
    "print(a@b)\n",
    "end_time = time.time()\n",
    "print(\"Built in matmul function execution time:\",end_time - start_time)"
   ]
  },
  {
   "cell_type": "markdown",
   "id": "20deeb00",
   "metadata": {},
   "source": [
    "The function I wrote uses two for loops, one to iterate through the rows of a, one to iterate through the columns of b. This results in a computational complexity of O(n^2). In addition, my code append every dot result in a list and later converts its shape and datatype into the desired format. All of these steps takes extra time, especially the nested for loop.   "
   ]
  },
  {
   "cell_type": "code",
   "execution_count": null,
   "id": "bf0d311a",
   "metadata": {},
   "outputs": [],
   "source": []
  }
 ],
 "metadata": {
  "kernelspec": {
   "display_name": "Python 3",
   "language": "python",
   "name": "python3"
  },
  "language_info": {
   "codemirror_mode": {
    "name": "ipython",
    "version": 3
   },
   "file_extension": ".py",
   "mimetype": "text/x-python",
   "name": "python",
   "nbconvert_exporter": "python",
   "pygments_lexer": "ipython3",
   "version": "3.8.8"
  }
 },
 "nbformat": 4,
 "nbformat_minor": 5
}
