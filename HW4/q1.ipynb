{
 "cells": [
  {
   "cell_type": "markdown",
   "metadata": {},
   "source": [
    "# Principal Component Analysis\n",
    "The goal of this question is to build a conceptual understanding of dimensionality reduction using PCA and implement it on a toy dataset. You’ll only have to use numpy and matplotlib for this question."
   ]
  },
  {
   "cell_type": "code",
   "execution_count": 1,
   "metadata": {},
   "outputs": [],
   "source": [
    "import numpy as np\n",
    "from numpy import linalg as LA\n",
    "import matplotlib.pyplot as plt\n",
    "import pandas as pd\n",
    "import seaborn as sns"
   ]
  },
  {
   "cell_type": "markdown",
   "metadata": {},
   "source": [
    "# (a)"
   ]
  },
  {
   "cell_type": "code",
   "execution_count": 2,
   "metadata": {},
   "outputs": [],
   "source": [
    "# (a) Load data (features)\n",
    "def load_data(file_name):\n",
    "    data = np.load(file_name)\n",
    "    new = data - np.mean(data, axis=0)\n",
    "    data = new / np.std(new, axis=0)\n",
    "    return data"
   ]
  },
  {
   "cell_type": "code",
   "execution_count": 3,
   "metadata": {},
   "outputs": [
    {
     "data": {
      "text/plain": [
       "array([[-0.90068117,  1.03205722, -1.3412724 , ...,  1.69444872,\n",
       "        -0.40857323,  0.46550025],\n",
       "       [-1.14301691, -0.1249576 , -1.3412724 , ..., -1.70906049,\n",
       "        -2.2365549 , -2.43747468],\n",
       "       [-1.38535265,  0.33784833, -1.39813811, ...,  0.60124292,\n",
       "        -0.97539158, -0.35271352],\n",
       "       ...,\n",
       "       [ 0.79566902, -0.1249576 ,  0.81962435, ...,  0.41447536,\n",
       "         1.02554633,  1.1042481 ],\n",
       "       [ 0.4321654 ,  0.80065426,  0.93335575, ...,  0.787192  ,\n",
       "         1.15078808,  1.38507878],\n",
       "       [ 0.06866179, -0.1249576 ,  0.76275864, ..., -2.06891286,\n",
       "        -0.54807894, -1.47672658]])"
      ]
     },
     "execution_count": 3,
     "metadata": {},
     "output_type": "execute_result"
    }
   ],
   "source": [
    "data = load_data('features.npy')\n",
    "data"
   ]
  },
  {
   "cell_type": "markdown",
   "metadata": {},
   "source": [
    "# (b)"
   ]
  },
  {
   "cell_type": "code",
   "execution_count": 4,
   "metadata": {},
   "outputs": [],
   "source": [
    "# (b) Perform eigen decomposition and return eigen pairs in desecending order of eigen values\n",
    "def eigendecomp(X):\n",
    "    \n",
    "    matrix = np.dot(X.T,X)\n",
    "    \n",
    "    eigenValues,eigenVectors = LA.eig(matrix)\n",
    "    \n",
    "    idx = eigenValues.argsort()[::-1]   \n",
    "    sorted_eig_vals = eigenValues[idx]\n",
    "    sorted_eig_vecs = eigenVectors[:,idx]\n",
    "\n",
    "    return sorted_eig_vals, sorted_eig_vecs"
   ]
  },
  {
   "cell_type": "code",
   "execution_count": 5,
   "metadata": {},
   "outputs": [
    {
     "data": {
      "text/plain": [
       "array([ 7.06705452e+02,  3.42082110e+02,  1.15759666e+02,  3.04217623e+01,\n",
       "        5.03100974e+00,  7.56528662e-14,  2.79855194e-14, -4.69591010e-14])"
      ]
     },
     "execution_count": 5,
     "metadata": {},
     "output_type": "execute_result"
    }
   ],
   "source": [
    "sorted_eig_vals, sorted_eig_vecs = eigendecomp(data)\n",
    "sorted_eig_vals"
   ]
  },
  {
   "cell_type": "code",
   "execution_count": 6,
   "metadata": {},
   "outputs": [
    {
     "data": {
      "text/plain": [
       "array([[-0.39124937,  0.13884872, -0.46160937,  0.58034539,  0.24934936,\n",
       "         0.1446705 , -0.21624744,  0.38787221],\n",
       "       [ 0.11687696, -0.4391715 , -0.78711289, -0.2905579 , -0.12725786,\n",
       "        -0.11209634,  0.26964372,  0.03163262],\n",
       "       [-0.40655289,  0.29080021, -0.13961871, -0.12636707, -0.54994554,\n",
       "         0.5638687 , -0.19904069, -0.2391309 ],\n",
       "       [-0.39944906,  0.26454833, -0.16206048, -0.54404218,  0.49904279,\n",
       "        -0.17992124, -0.18920639, -0.30971526],\n",
       "       [-0.3778555 , -0.35426671,  0.07790627,  0.42060984,  0.12822569,\n",
       "        -0.22732469,  0.33979549, -0.60947416],\n",
       "       [-0.09816172, -0.64299795,  0.11941452, -0.04972667, -0.0795516 ,\n",
       "         0.3081267 , -0.7411877 , -0.0869507 ],\n",
       "       [-0.45509399, -0.03231459,  0.12200908, -0.08034689, -0.51935676,\n",
       "        -0.621468  ,  0.21937274,  0.26355816],\n",
       "       [-0.38587285, -0.30545597,  0.29393481, -0.28457653,  0.27864817,\n",
       "         0.28869404,  0.30359261,  0.49695606]])"
      ]
     },
     "execution_count": 6,
     "metadata": {},
     "output_type": "execute_result"
    }
   ],
   "source": [
    "sorted_eig_vecs"
   ]
  },
  {
   "cell_type": "markdown",
   "metadata": {},
   "source": [
    "# (c)"
   ]
  },
  {
   "cell_type": "code",
   "execution_count": 7,
   "metadata": {},
   "outputs": [],
   "source": [
    "# (c) Evaluate using variance_explained as the metric\n",
    "def eval(data):\n",
    "    variance_lst = []\n",
    "    egnvalues, egnvec = eigendecomp(data)\n",
    "    egnvalues_lst = egnvalues.tolist()\n",
    "    sum_egnvalues = sum(egnvalues)\n",
    "    for k in egnvalues:\n",
    "        variance_lst.append(k/sum_egnvalues)\n",
    "    plt.bar(range(0,len(variance_lst)), variance_lst, alpha=0.5, align='center', label='Individual explained variance')\n",
    "    plt.title('Explained variance ratio vs Principal component')\n",
    "    plt.ylabel('Explained variance ratio')\n",
    "    plt.xlabel('Principal component index')\n",
    "    plt.legend(loc='best')\n",
    "    plt.show()\n",
    "        \n",
    "    return variance_lst, egnvalues_lst\n"
   ]
  },
  {
   "cell_type": "code",
   "execution_count": 8,
   "metadata": {},
   "outputs": [
    {
     "data": {
      "image/png": "[encoded data removed]",
      "text/plain": [
       "<Figure size 432x288 with 1 Axes>"
      ]
     },
     "metadata": {
      "needs_background": "light"
     },
     "output_type": "display_data"
    },
    {
     "name": "stdout",
     "output_type": "stream",
     "text": [
      "Number 0 dimension has a variance of: 0.588921209829577 and thecorresponding eigenvalue is: 706.7054517954916\n",
      "Number 1 dimension has a variance of: 0.28506842487265405 and thecorresponding eigenvalue is: 342.08210984718454\n",
      "Number 2 dimension has a variance of: 0.09646638861890934 and thecorresponding eigenvalue is: 115.75966634269109\n",
      "Number 3 dimension has a variance of: 0.025351468560903482 and thecorresponding eigenvalue is: 30.42176227308415\n",
      "Number 4 dimension has a variance of: 0.004192508117956145 and thecorresponding eigenvalue is: 5.031009741547369\n",
      "Number 5 dimension has a variance of: 6.304405515575087e-17 and thecorresponding eigenvalue is: 7.565286618690096e-14\n",
      "Number 6 dimension has a variance of: 2.3321266197139515e-17 and thecorresponding eigenvalue is: 2.798551943656739e-14\n",
      "Number 7 dimension has a variance of: -3.913258416116788e-17 and thecorresponding eigenvalue is: -4.695910099340141e-14\n"
     ]
    }
   ],
   "source": [
    "variance_lst, egnvalues = eval(data)\n",
    "for i in range(0,len(variance_lst)):\n",
    "    print('Number',i ,'dimension has a variance of:',variance_lst[i],'and thecorresponding eigenvalue is:',egnvalues[i])"
   ]
  },
  {
   "cell_type": "code",
   "execution_count": 9,
   "metadata": {},
   "outputs": [
    {
     "data": {
      "text/plain": [
       "0.9704560233211403"
      ]
     },
     "execution_count": 9,
     "metadata": {},
     "output_type": "execute_result"
    }
   ],
   "source": [
    "variance_lst[0] + variance_lst[1] + variance_lst[2]"
   ]
  },
  {
   "cell_type": "markdown",
   "metadata": {},
   "source": [
    "I will pick 3 as my k value because the three principal componenet can explain 97% of the data."
   ]
  },
  {
   "cell_type": "markdown",
   "metadata": {},
   "source": [
    "# (d)"
   ]
  },
  {
   "cell_type": "code",
   "execution_count": 10,
   "metadata": {},
   "outputs": [],
   "source": [
    "# (d) Visualize after projecting to 2-D space\n",
    "def viz(data,sorted_eig_vecs,labels):\n",
    "    \n",
    "    n_components = 2\n",
    "    eigenvector_subset = sorted_eig_vecs[:,0:n_components]\n",
    "    X_reduced = np.dot(eigenvector_subset.transpose(),data.transpose()).transpose()\n",
    "    d_viz = np.concatenate((X_reduced, labels.reshape(150,1)), axis=1)\n",
    "    \n",
    "    df = pd.DataFrame(d_viz, columns = ['PCA1','PCA2','label'])\n",
    "    groups = df.groupby('label')\n",
    "    for name, group in groups:\n",
    "        plt.plot(group.PCA1, group.PCA2, marker='o', linestyle='', label=name)\n",
    "        \n",
    "        \n",
    "    plt.title('Data in 2-D subspace')\n",
    "    plt.legend(['label 0','label 1','label 2'])\n",
    "    return"
   ]
  },
  {
   "cell_type": "code",
   "execution_count": 11,
   "metadata": {},
   "outputs": [
    {
     "data": {
      "image/png": "[encoded data removed]",
      "text/plain": [
       "<Figure size 432x288 with 1 Axes>"
      ]
     },
     "metadata": {
      "needs_background": "light"
     },
     "output_type": "display_data"
    }
   ],
   "source": [
    "labels = np.load('labels.npy',allow_pickle=True)\n",
    "viz(data,sorted_eig_vecs,labels)"
   ]
  },
  {
   "cell_type": "code",
   "execution_count": 12,
   "metadata": {},
   "outputs": [],
   "source": [
    "# def main():\n",
    "\n",
    "#     eval()\n",
    "#     viz()\n",
    "\n",
    "# if __name__ == \"__main__\":\n",
    "#     main()"
   ]
  },
  {
   "cell_type": "markdown",
   "metadata": {},
   "source": [
    "# (e)"
   ]
  },
  {
   "cell_type": "markdown",
   "metadata": {},
   "source": [
    "(e): Assume you have a dataset with the original dimensionality as 2 and you have to reduce it to 1. Provide a sample scatter plot of the original data (less than 10 datapoints) where PCA might produce misleading results. You can plot it by hand and then take a picture. In the next cell, switch to Markdown mode and use the command: ![title](<your_plot_file_path>)"
   ]
  },
  {
   "cell_type": "markdown",
   "metadata": {},
   "source": [
    "### PCA is a linear dimension reduction so dataset that are best represented in non linear componenets are not suitable for PCA. (Datasets that have kurtosis that are close to zero are not suitable for PCA)"
   ]
  },
  {
   "cell_type": "markdown",
   "metadata": {},
   "source": [
    " ![title](<PCA.jpg>)"
   ]
  },
  {
   "cell_type": "code",
   "execution_count": null,
   "metadata": {},
   "outputs": [],
   "source": []
  }
 ],
 "metadata": {
  "kernelspec": {
   "display_name": "Python 3",
   "language": "python",
   "name": "python3"
  },
  "language_info": {
   "codemirror_mode": {
    "name": "ipython",
    "version": 3
   },
   "file_extension": ".py",
   "mimetype": "text/x-python",
   "name": "python",
   "nbconvert_exporter": "python",
   "pygments_lexer": "ipython3",
   "version": "3.8.8"
  }
 },
 "nbformat": 4,
 "nbformat_minor": 2
}
